{
 "cells": [
  {
   "cell_type": "markdown",
   "metadata": {},
   "source": [
    "<p style=\"text-align:center\">\n",
    "    <a href=\"https://skills.network\" target=\"_blank\">\n",
    "    <img src=\"https://cf-courses-data.s3.us.cloud-object-storage.appdomain.cloud/assets/logos/SN_web_lightmode.png\" width=\"200\" alt=\"Skills Network Logo\">\n",
    "    </a>\n",
    "</p>\n"
   ]
  },
  {
   "cell_type": "markdown",
   "metadata": {},
   "source": [
    "# **Space X  Falcon 9 First Stage Landing Prediction**\n"
   ]
  },
  {
   "cell_type": "markdown",
   "metadata": {},
   "source": [
    "## Web scraping Falcon 9 and Falcon Heavy Launches Records from Wikipedia\n"
   ]
  },
  {
   "cell_type": "markdown",
   "metadata": {},
   "source": [
    "Estimated time needed: **40** minutes\n"
   ]
  },
  {
   "cell_type": "markdown",
   "metadata": {},
   "source": [
    "In this lab, you will be performing web scraping to collect Falcon 9 historical launch records from a Wikipedia page titled `List of Falcon 9 and Falcon Heavy launches`\n",
    "\n",
    "https://en.wikipedia.org/wiki/List_of_Falcon_9_and_Falcon_Heavy_launches\n"
   ]
  },
  {
   "cell_type": "markdown",
   "metadata": {},
   "source": [
    "![](https://cf-courses-data.s3.us.cloud-object-storage.appdomain.cloud/IBM-DS0321EN-SkillsNetwork/labs/module_1_L2/images/Falcon9_rocket_family.svg)\n"
   ]
  },
  {
   "cell_type": "markdown",
   "metadata": {},
   "source": [
    "Falcon 9 first stage will land successfully\n"
   ]
  },
  {
   "cell_type": "markdown",
   "metadata": {},
   "source": [
    "![](https://cf-courses-data.s3.us.cloud-object-storage.appdomain.cloud/IBMDeveloperSkillsNetwork-DS0701EN-SkillsNetwork/api/Images/landing_1.gif)\n"
   ]
  },
  {
   "cell_type": "markdown",
   "metadata": {},
   "source": [
    "Several examples of an unsuccessful landing are shown here:\n"
   ]
  },
  {
   "cell_type": "markdown",
   "metadata": {},
   "source": [
    "![](https://cf-courses-data.s3.us.cloud-object-storage.appdomain.cloud/IBMDeveloperSkillsNetwork-DS0701EN-SkillsNetwork/api/Images/crash.gif)\n"
   ]
  },
  {
   "cell_type": "markdown",
   "metadata": {},
   "source": [
    "More specifically, the launch records are stored in a HTML table shown below:\n"
   ]
  },
  {
   "cell_type": "markdown",
   "metadata": {},
   "source": [
    "![](https://cf-courses-data.s3.us.cloud-object-storage.appdomain.cloud/IBM-DS0321EN-SkillsNetwork/labs/module_1_L2/images/falcon9-launches-wiki.png)\n"
   ]
  },
  {
   "cell_type": "markdown",
   "metadata": {},
   "source": [
    "  ## Objectives\n",
    "Web scrap Falcon 9 launch records with `BeautifulSoup`: \n",
    "- Extract a Falcon 9 launch records HTML table from Wikipedia\n",
    "- Parse the table and convert it into a Pandas data frame\n"
   ]
  },
  {
   "cell_type": "markdown",
   "metadata": {},
   "source": [
    "First let's import required packages for this lab\n"
   ]
  },
  {
   "cell_type": "code",
   "execution_count": 65,
   "metadata": {
    "tags": []
   },
   "outputs": [
    {
     "name": "stdout",
     "output_type": "stream",
     "text": [
      "Requirement already satisfied: beautifulsoup4 in /home/jupyterlab/conda/envs/python/lib/python3.7/site-packages (4.11.1)\n",
      "Requirement already satisfied: soupsieve>1.2 in /home/jupyterlab/conda/envs/python/lib/python3.7/site-packages (from beautifulsoup4) (2.3.2.post1)\n",
      "Requirement already satisfied: requests in /home/jupyterlab/conda/envs/python/lib/python3.7/site-packages (2.29.0)\n",
      "Requirement already satisfied: charset-normalizer<4,>=2 in /home/jupyterlab/conda/envs/python/lib/python3.7/site-packages (from requests) (3.1.0)\n",
      "Requirement already satisfied: idna<4,>=2.5 in /home/jupyterlab/conda/envs/python/lib/python3.7/site-packages (from requests) (3.4)\n",
      "Requirement already satisfied: urllib3<1.27,>=1.21.1 in /home/jupyterlab/conda/envs/python/lib/python3.7/site-packages (from requests) (1.26.15)\n",
      "Requirement already satisfied: certifi>=2017.4.17 in /home/jupyterlab/conda/envs/python/lib/python3.7/site-packages (from requests) (2023.5.7)\n"
     ]
    }
   ],
   "source": [
    "!pip3 install beautifulsoup4\n",
    "!pip3 install requests"
   ]
  },
  {
   "cell_type": "code",
   "execution_count": 66,
   "metadata": {
    "tags": []
   },
   "outputs": [],
   "source": [
    "import sys\n",
    "\n",
    "import requests\n",
    "from bs4 import BeautifulSoup\n",
    "import re\n",
    "import unicodedata\n",
    "import pandas as pd"
   ]
  },
  {
   "cell_type": "markdown",
   "metadata": {},
   "source": [
    "and we will provide some helper functions for you to process web scraped HTML table\n"
   ]
  },
  {
   "cell_type": "code",
   "execution_count": 67,
   "metadata": {
    "tags": []
   },
   "outputs": [],
   "source": [
    "def date_time(table_cells):\n",
    "    \"\"\"\n",
    "    This function returns the data and time from the HTML  table cell\n",
    "    Input: the  element of a table data cell extracts extra row\n",
    "    \"\"\"\n",
    "    return [data_time.strip() for data_time in list(table_cells.strings)][0:2]\n",
    "\n",
    "def booster_version(table_cells):\n",
    "    \"\"\"\n",
    "    This function returns the booster version from the HTML  table cell \n",
    "    Input: the  element of a table data cell extracts extra row\n",
    "    \"\"\"\n",
    "    out=''.join([booster_version for i,booster_version in enumerate( table_cells.strings) if i%2==0][0:-1])\n",
    "    return out\n",
    "\n",
    "def landing_status(table_cells):\n",
    "    \"\"\"\n",
    "    This function returns the landing status from the HTML table cell \n",
    "    Input: the  element of a table data cell extracts extra row\n",
    "    \"\"\"\n",
    "    out=[i for i in table_cells.strings][0]\n",
    "    return out\n",
    "\n",
    "\n",
    "def get_mass(table_cells):\n",
    "    mass=unicodedata.normalize(\"NFKD\", table_cells.text).strip()\n",
    "    if mass:\n",
    "        mass.find(\"kg\")\n",
    "        new_mass=mass[0:mass.find(\"kg\")+2]\n",
    "    else:\n",
    "        new_mass=0\n",
    "    return new_mass\n",
    "\n",
    "\n",
    "def extract_column_from_header(row):\n",
    "    \"\"\"\n",
    "    This function returns the landing status from the HTML table cell \n",
    "    Input: the  element of a table data cell extracts extra row\n",
    "    \"\"\"\n",
    "    if (row.br):\n",
    "        row.br.extract()\n",
    "    if row.a:\n",
    "        row.a.extract()\n",
    "    if row.sup:\n",
    "        row.sup.extract()\n",
    "        \n",
    "    colunm_name = ' '.join(row.contents)\n",
    "    \n",
    "    # Filter the digit and empty names\n",
    "    if not(colunm_name.strip().isdigit()):\n",
    "        colunm_name = colunm_name.strip()\n",
    "        return colunm_name    \n"
   ]
  },
  {
   "cell_type": "markdown",
   "metadata": {},
   "source": [
    "To keep the lab tasks consistent, you will be asked to scrape the data from a snapshot of the  `List of Falcon 9 and Falcon Heavy launches` Wikipage updated on\n",
    "`9th June 2021`\n"
   ]
  },
  {
   "cell_type": "code",
   "execution_count": 68,
   "metadata": {
    "tags": []
   },
   "outputs": [],
   "source": [
    "static_url = \"https://en.wikipedia.org/w/index.php?title=List_of_Falcon_9_and_Falcon_Heavy_launches&oldid=1027686922\"\n",
    "\n",
    "headers = {\n",
    "    \"User-Agent\": \"Mozilla/5.0 (Windows NT 10.0; Win64; x64) \"\n",
    "                  \"AppleWebKit/537.36 (KHTML, like Gecko) \"\n",
    "                  \"Chrome/91.0.4472.124 Safari/537.36\"\n",
    "}"
   ]
  },
  {
   "cell_type": "markdown",
   "metadata": {},
   "source": [
    "Next, request the HTML page from the above URL and get a `response` object\n"
   ]
  },
  {
   "cell_type": "markdown",
   "metadata": {},
   "source": [
    "### TASK 1: Request the Falcon9 Launch Wiki page from its URL\n"
   ]
  },
  {
   "cell_type": "markdown",
   "metadata": {},
   "source": [
    "First, let's perform an HTTP GET method to request the Falcon9 Launch HTML page, as an HTTP response.\n"
   ]
  },
  {
   "cell_type": "code",
   "execution_count": 79,
   "metadata": {
    "tags": []
   },
   "outputs": [
    {
     "name": "stdout",
     "output_type": "stream",
     "text": [
      "Status Code: 200\n"
     ]
    }
   ],
   "source": [
    "import requests\n",
    "\n",
    "# Define the Wikipedia URL (Falcon 9 and Falcon Heavy launches)\n",
    "static_url = \"https://en.wikipedia.org/wiki/List_of_Falcon_9_and_Falcon_Heavy_launches\"\n",
    "\n",
    "# Use a browser-like User-Agent to avoid 403\n",
    "headers = {\n",
    "    \"User-Agent\": \"Mozilla/5.0 (Windows NT 10.0; Win64; x64) AppleWebKit/537.36 (KHTML, like Gecko) Chrome/122 Safari/537.36\"\n",
    "}\n",
    "\n",
    "# Send HTTP GET\n",
    "response = requests.get(static_url, headers=headers)\n",
    "print(\"Status Code:\", response.status_code)   # Expect 200\n"
   ]
  },
  {
   "cell_type": "markdown",
   "metadata": {},
   "source": [
    "Create a `BeautifulSoup` object from the HTML `response`\n"
   ]
  },
  {
   "cell_type": "code",
   "execution_count": 80,
   "metadata": {
    "tags": []
   },
   "outputs": [
    {
     "name": "stdout",
     "output_type": "stream",
     "text": [
      "Tables found with html.parser: 5\n"
     ]
    }
   ],
   "source": [
    "from bs4 import BeautifulSoup\n",
    "\n",
    "# First try with the default parser\n",
    "soup = BeautifulSoup(response.text, \"html.parser\")\n",
    "\n",
    "# Quick check: how many 'wikitable' tables are visible?\n",
    "tables_htmlparser = soup.find_all(\"table\", {\"class\": \"wikitable\"})\n",
    "print(\"Tables found with html.parser:\", len(tables_htmlparser))\n",
    "\n",
    "# If none found (or too few), retry with html5lib for robustness\n",
    "if len(tables_htmlparser) == 0:\n",
    "    from bs4 import BeautifulSoup as BS\n",
    "    soup = BS(response.text, \"html5lib\")\n",
    "    print(\"Rebuilt soup with html5lib.\")\n",
    "    print(\"Tables found with html5lib:\", len(soup.find_all('table', {'class': 'wikitable'})))\n"
   ]
  },
  {
   "cell_type": "markdown",
   "metadata": {},
   "source": [
    "Print the page title to verify if the `BeautifulSoup` object was created properly \n"
   ]
  },
  {
   "cell_type": "code",
   "execution_count": 81,
   "metadata": {
    "tags": []
   },
   "outputs": [
    {
     "name": "stdout",
     "output_type": "stream",
     "text": [
      "Page Title: List of Falcon 9 and Falcon Heavy launches - Wikipedia\n"
     ]
    }
   ],
   "source": [
    "print(\"Page Title:\", soup.title.string)\n"
   ]
  },
  {
   "cell_type": "markdown",
   "metadata": {},
   "source": [
    "### TASK 2: Extract all column/variable names from the HTML table header\n"
   ]
  },
  {
   "cell_type": "markdown",
   "metadata": {},
   "source": [
    "Next, we want to collect all relevant column names from the HTML table header\n"
   ]
  },
  {
   "cell_type": "markdown",
   "metadata": {},
   "source": [
    "Let's try to find all tables on the wiki page first. If you need to refresh your memory about `BeautifulSoup`, please check the external reference link towards the end of this lab\n"
   ]
  },
  {
   "cell_type": "code",
   "execution_count": 82,
   "metadata": {
    "tags": []
   },
   "outputs": [
    {
     "name": "stdout",
     "output_type": "stream",
     "text": [
      "Total 'wikitable' tables: 5\n"
     ]
    }
   ],
   "source": [
    "# Find all tables that carry the 'wikitable' class\n",
    "html_tables = soup.find_all(\"table\", {\"class\": \"wikitable\"})\n",
    "print(\"Total 'wikitable' tables:\", len(html_tables))\n"
   ]
  },
  {
   "cell_type": "markdown",
   "metadata": {},
   "source": [
    "Starting from the third table is our target table contains the actual launch records.\n"
   ]
  },
  {
   "cell_type": "code",
   "execution_count": 83,
   "metadata": {
    "tags": []
   },
   "outputs": [
    {
     "name": "stdout",
     "output_type": "stream",
     "text": [
      "<tr>\n",
      "<th scope=\"col\">Date and time (<a href=\"/wiki/Coordinated_Universal_Time\" title=\"Coordinated Universal Time\">UTC</a>)\n",
      "</th>\n",
      "<th scope=\"col\"><a href=\"/wiki/List_of_Falcon_9_first-stage_boosters\" title=\"List of Falcon 9 first-stage boosters\">Version,<br/>booster</a><sup class=\"reference\" id=\"cite_ref-booster_31-2\"><a href=\"#cite_note-booster-31\"><span class=\"cite-bracket\">[</span>i<span class=\"cite-bracket\">]</span></a></sup>\n",
      "</th>\n",
      "<th scope=\"col\">Launch site\n",
      "</th>\n",
      "<th scope=\"col\">Payload<sup class=\"reference\" id=\"cite_ref-Dragon_32-2\"><a href=\"#cite_note-Dragon-32\"><span class=\"cite-bracket\">[</span>j<span class=\"cite-bracket\">]</span></a></sup>\n",
      "</th>\n",
      "<th scope=\"col\">Orbit\n",
      "</th>\n",
      "<th scope=\"col\">Customer\n",
      "</th></tr>\n"
     ]
    }
   ],
   "source": [
    "# The first big launch table is typically at index 2, but this can change. Adjust if needed.\n",
    "first_launch_table = html_tables[2] if len(html_tables) > 2 else html_tables[0]\n",
    "\n",
    "# Show the first header row to confirm <th> labels\n",
    "print(first_launch_table.find(\"tr\"))\n"
   ]
  },
  {
   "cell_type": "markdown",
   "metadata": {},
   "source": [
    "You should able to see the columns names embedded in the table header elements `<th>` as follows:\n"
   ]
  },
  {
   "cell_type": "markdown",
   "metadata": {},
   "source": [
    "```\n",
    "<tr>\n",
    "<th scope=\"col\">Flight No.\n",
    "</th>\n",
    "<th scope=\"col\">Date and<br/>time (<a href=\"/wiki/Coordinated_Universal_Time\" title=\"Coordinated Universal Time\">UTC</a>)\n",
    "</th>\n",
    "<th scope=\"col\"><a href=\"/wiki/List_of_Falcon_9_first-stage_boosters\" title=\"List of Falcon 9 first-stage boosters\">Version,<br/>Booster</a> <sup class=\"reference\" id=\"cite_ref-booster_11-0\"><a href=\"#cite_note-booster-11\">[b]</a></sup>\n",
    "</th>\n",
    "<th scope=\"col\">Launch site\n",
    "</th>\n",
    "<th scope=\"col\">Payload<sup class=\"reference\" id=\"cite_ref-Dragon_12-0\"><a href=\"#cite_note-Dragon-12\">[c]</a></sup>\n",
    "</th>\n",
    "<th scope=\"col\">Payload mass\n",
    "</th>\n",
    "<th scope=\"col\">Orbit\n",
    "</th>\n",
    "<th scope=\"col\">Customer\n",
    "</th>\n",
    "<th scope=\"col\">Launch<br/>outcome\n",
    "</th>\n",
    "<th scope=\"col\"><a href=\"/wiki/Falcon_9_first-stage_landing_tests\" title=\"Falcon 9 first-stage landing tests\">Booster<br/>landing</a>\n",
    "</th></tr>\n",
    "```\n"
   ]
  },
  {
   "cell_type": "markdown",
   "metadata": {},
   "source": [
    "Next, we just need to iterate through the `<th>` elements and apply the provided `extract_column_from_header()` to extract column name one by one\n"
   ]
  },
  {
   "cell_type": "code",
   "execution_count": 86,
   "metadata": {
    "tags": []
   },
   "outputs": [],
   "source": [
    "import re\n",
    "\n",
    "def extract_column_from_header(th_tag):\n",
    "    text = th_tag.get_text(\" \", strip=True)\n",
    "    # Remove wiki footnotes like [1], [a]\n",
    "    text = re.sub(r\"\\[\\s*.*?\\s*\\]\", \"\", text)\n",
    "    # Normalize spaces and NBSPs\n",
    "    text = text.replace(\"\\xa0\", \" \").strip()\n",
    "    return text\n",
    "\n",
    "header_row = first_launch_table.find(\"tr\")\n",
    "th_tags = header_row.find_all(\"th\")\n",
    "column_names = [extract_column_from_header(th) for th in th_tags]\n"
   ]
  },
  {
   "cell_type": "markdown",
   "metadata": {},
   "source": [
    "Check the extracted column names\n"
   ]
  },
  {
   "cell_type": "code",
   "execution_count": 87,
   "metadata": {
    "tags": []
   },
   "outputs": [
    {
     "name": "stdout",
     "output_type": "stream",
     "text": [
      "['Date and time ( UTC )', 'Version, booster', 'Launch site', 'Payload', 'Orbit', 'Customer']\n"
     ]
    }
   ],
   "source": [
    "print(column_names)"
   ]
  },
  {
   "cell_type": "markdown",
   "metadata": {},
   "source": [
    "## TASK 3: Create a data frame by parsing the launch HTML tables\n"
   ]
  },
  {
   "cell_type": "markdown",
   "metadata": {},
   "source": [
    "We will create an empty dictionary with keys from the extracted column names in the previous task. Later, this dictionary will be converted into a Pandas dataframe\n"
   ]
  },
  {
   "cell_type": "code",
   "execution_count": 93,
   "metadata": {
    "tags": []
   },
   "outputs": [],
   "source": [
    "# Use explicit column names to match the lab rubric\n",
    "cols = [\n",
    "    'Flight No.', 'Date', 'Time', 'Version Booster', 'Launch site',\n",
    "    'Payload', 'Payload mass', 'Orbit', 'Customer', 'Launch outcome', 'Booster landing'\n",
    "]\n",
    "launch_dict = {k: [] for k in cols}\n"
   ]
  },
  {
   "cell_type": "markdown",
   "metadata": {},
   "source": [
    "Next, we just need to fill up the `launch_dict` with launch records extracted from table rows.\n"
   ]
  },
  {
   "cell_type": "markdown",
   "metadata": {},
   "source": [
    "Usually, HTML tables in Wiki pages are likely to contain unexpected annotations and other types of noises, such as reference links `B0004.1[8]`, missing values `N/A [e]`, inconsistent formatting, etc.\n"
   ]
  },
  {
   "cell_type": "markdown",
   "metadata": {},
   "source": [
    "To simplify the parsing process, we have provided an incomplete code snippet below to help you to fill up the `launch_dict`. Please complete the following code snippet with TODOs or you can choose to write your own logic to parse all launch tables:\n"
   ]
  },
  {
   "cell_type": "code",
   "execution_count": 94,
   "metadata": {
    "tags": []
   },
   "outputs": [
    {
     "name": "stdout",
     "output_type": "stream",
     "text": [
      "Rows parsed: 257\n",
      "Flight No.: 257\n",
      "Date: 257\n",
      "Time: 257\n",
      "Version Booster: 257\n",
      "Launch site: 257\n",
      "Payload: 257\n",
      "Payload mass: 257\n",
      "Orbit: 257\n",
      "Customer: 257\n",
      "Launch outcome: 257\n",
      "Booster landing: 257\n"
     ]
    }
   ],
   "source": [
    "# Fallback helpers if your lab helpers are not present\n",
    "import re\n",
    "\n",
    "def _dt(cell):\n",
    "    # Best-effort split of date/time from the first column\n",
    "    raw = cell.get_text(\" \", strip=True)\n",
    "    parts = raw.split()\n",
    "    date = \" \".join(parts[:3]) if len(parts) >= 3 else raw\n",
    "    time = None\n",
    "    for p in parts:\n",
    "        if re.match(r\"^\\d{2}:\\d{2}\", p):\n",
    "            time = p[:5]\n",
    "            break\n",
    "    return [date, time]\n",
    "\n",
    "def _mass(cell):\n",
    "    txt = cell.get_text(\" \", strip=True)\n",
    "    m = re.search(r\"([\\d,.\\s]+)\\s*kg\", txt, flags=re.I)\n",
    "    if not m:\n",
    "        # Sometimes cell starts with number only\n",
    "        m = re.search(r\"^[\\s]*([\\d,.\\s]+)\\b\", txt)\n",
    "    if m:\n",
    "        val = m.group(1).replace(\",\", \"\").strip()\n",
    "        try:\n",
    "            return float(val)\n",
    "        except:\n",
    "            return None\n",
    "    return None\n",
    "\n",
    "extracted_rows = 0\n",
    "\n",
    "# Loop through every 'wikitable' and parse rows with numeric Flight No.\n",
    "for table in html_tables:\n",
    "    for tr in table.find_all(\"tr\"):\n",
    "        th = tr.find(\"th\")\n",
    "        if not th or not th.text.strip().isdigit():\n",
    "            continue\n",
    "\n",
    "        tds = tr.find_all(\"td\")\n",
    "        if len(tds) < 9:         # guard: ensure enough cells\n",
    "            continue\n",
    "\n",
    "        # 0 Flight No.\n",
    "        flight_no = th.text.strip()\n",
    "\n",
    "        # 1 Date & Time\n",
    "        dt = _dt(tds[0])\n",
    "        date, time = (dt[0], dt[1])\n",
    "\n",
    "        # 2 Version Booster\n",
    "        bv = tds[1].get_text(\" \", strip=True)\n",
    "\n",
    "        # 3 Launch site\n",
    "        site = tds[2].get_text(\" \", strip=True)\n",
    "\n",
    "        # 4 Payload\n",
    "        payload = tds[3].get_text(\" \", strip=True)\n",
    "\n",
    "        # 5 Payload mass\n",
    "        payload_mass = _mass(tds[4])\n",
    "\n",
    "        # 6 Orbit\n",
    "        orbit = tds[5].get_text(\" \", strip=True)\n",
    "\n",
    "        # 7 Customer\n",
    "        customer = tds[6].get_text(\" \", strip=True)\n",
    "\n",
    "        # 8 Launch outcome\n",
    "        outcome = tds[7].get_text(\" \", strip=True)\n",
    "\n",
    "        # 9 Booster landing (if present)\n",
    "        landing = tds[8].get_text(\" \", strip=True) if len(tds) > 8 else None\n",
    "\n",
    "        # Append to dict\n",
    "        launch_dict['Flight No.'].append(flight_no)\n",
    "        launch_dict['Date'].append(date)\n",
    "        launch_dict['Time'].append(time)\n",
    "        launch_dict['Version Booster'].append(bv)\n",
    "        launch_dict['Launch site'].append(site)\n",
    "        launch_dict['Payload'].append(payload)\n",
    "        launch_dict['Payload mass'].append(payload_mass)\n",
    "        launch_dict['Orbit'].append(orbit)\n",
    "        launch_dict['Customer'].append(customer)\n",
    "        launch_dict['Launch outcome'].append(outcome)\n",
    "        launch_dict['Booster landing'].append(landing)\n",
    "\n",
    "        extracted_rows += 1\n",
    "\n",
    "print(\"Rows parsed:\", extracted_rows)\n",
    "for k, v in launch_dict.items():\n",
    "    print(f\"{k}: {len(v)}\")\n"
   ]
  },
  {
   "cell_type": "markdown",
   "metadata": {},
   "source": [
    "After you have fill in the parsed launch record values into `launch_dict`, you can create a dataframe from it.\n"
   ]
  },
  {
   "cell_type": "code",
   "execution_count": 95,
   "metadata": {
    "tags": []
   },
   "outputs": [
    {
     "name": "stdout",
     "output_type": "stream",
     "text": [
      "(257, 11)\n"
     ]
    },
    {
     "data": {
      "text/html": [
       "<div>\n",
       "<style scoped>\n",
       "    .dataframe tbody tr th:only-of-type {\n",
       "        vertical-align: middle;\n",
       "    }\n",
       "\n",
       "    .dataframe tbody tr th {\n",
       "        vertical-align: top;\n",
       "    }\n",
       "\n",
       "    .dataframe thead th {\n",
       "        text-align: right;\n",
       "    }\n",
       "</style>\n",
       "<table border=\"1\" class=\"dataframe\">\n",
       "  <thead>\n",
       "    <tr style=\"text-align: right;\">\n",
       "      <th></th>\n",
       "      <th>Flight No.</th>\n",
       "      <th>Date</th>\n",
       "      <th>Time</th>\n",
       "      <th>Version Booster</th>\n",
       "      <th>Launch site</th>\n",
       "      <th>Payload</th>\n",
       "      <th>Payload mass</th>\n",
       "      <th>Orbit</th>\n",
       "      <th>Customer</th>\n",
       "      <th>Launch outcome</th>\n",
       "      <th>Booster landing</th>\n",
       "    </tr>\n",
       "  </thead>\n",
       "  <tbody>\n",
       "    <tr>\n",
       "      <th>0</th>\n",
       "      <td>286</td>\n",
       "      <td>January 3, 2024</td>\n",
       "      <td>03:44</td>\n",
       "      <td>F9 B5 B1082‑1</td>\n",
       "      <td>Vandenberg , SLC‑4E</td>\n",
       "      <td>Starlink : Group 7-9 (22 satellites)</td>\n",
       "      <td>16800.0</td>\n",
       "      <td>LEO</td>\n",
       "      <td>SpaceX</td>\n",
       "      <td>Success</td>\n",
       "      <td>Success ( OCISLY )</td>\n",
       "    </tr>\n",
       "    <tr>\n",
       "      <th>1</th>\n",
       "      <td>287</td>\n",
       "      <td>January 3, 2024</td>\n",
       "      <td>23:04</td>\n",
       "      <td>F9 B5 B1076‑10</td>\n",
       "      <td>Cape Canaveral , SLC‑40</td>\n",
       "      <td>Ovzon-3</td>\n",
       "      <td>1800.0</td>\n",
       "      <td>GTO</td>\n",
       "      <td>Ovzon</td>\n",
       "      <td>Success</td>\n",
       "      <td>Success ( LZ‑1 )</td>\n",
       "    </tr>\n",
       "    <tr>\n",
       "      <th>2</th>\n",
       "      <td>288</td>\n",
       "      <td>January 7, 2024</td>\n",
       "      <td>22:35</td>\n",
       "      <td>F9 B5 B1067‑16</td>\n",
       "      <td>Cape Canaveral , SLC‑40</td>\n",
       "      <td>Starlink : Group 6-35 (23 satellites)</td>\n",
       "      <td>17100.0</td>\n",
       "      <td>LEO</td>\n",
       "      <td>SpaceX</td>\n",
       "      <td>Success</td>\n",
       "      <td>Success ( ASOG )</td>\n",
       "    </tr>\n",
       "    <tr>\n",
       "      <th>3</th>\n",
       "      <td>289</td>\n",
       "      <td>January 14, 2024</td>\n",
       "      <td>08:59</td>\n",
       "      <td>F9 B5 B1061‑18</td>\n",
       "      <td>Vandenberg , SLC‑4E</td>\n",
       "      <td>Starlink : Group 7-10 (22 satellites)</td>\n",
       "      <td>16700.0</td>\n",
       "      <td>LEO</td>\n",
       "      <td>SpaceX</td>\n",
       "      <td>Success</td>\n",
       "      <td>Success ( OCISLY )</td>\n",
       "    </tr>\n",
       "    <tr>\n",
       "      <th>4</th>\n",
       "      <td>290</td>\n",
       "      <td>January 15, 2024</td>\n",
       "      <td>01:52</td>\n",
       "      <td>F9 B5 B1073‑12</td>\n",
       "      <td>Cape Canaveral , SLC‑40</td>\n",
       "      <td>Starlink : Group 6-37 (23 satellites)</td>\n",
       "      <td>17100.0</td>\n",
       "      <td>LEO</td>\n",
       "      <td>SpaceX</td>\n",
       "      <td>Success</td>\n",
       "      <td>Success ( ASOG )</td>\n",
       "    </tr>\n",
       "  </tbody>\n",
       "</table>\n",
       "</div>"
      ],
      "text/plain": [
       "  Flight No.              Date   Time Version Booster  \\\n",
       "0        286   January 3, 2024  03:44   F9 B5 B1082‑1   \n",
       "1        287   January 3, 2024  23:04  F9 B5 B1076‑10   \n",
       "2        288   January 7, 2024  22:35  F9 B5 B1067‑16   \n",
       "3        289  January 14, 2024  08:59  F9 B5 B1061‑18   \n",
       "4        290  January 15, 2024  01:52  F9 B5 B1073‑12   \n",
       "\n",
       "               Launch site                                Payload  \\\n",
       "0      Vandenberg , SLC‑4E   Starlink : Group 7-9 (22 satellites)   \n",
       "1  Cape Canaveral , SLC‑40                                Ovzon-3   \n",
       "2  Cape Canaveral , SLC‑40  Starlink : Group 6-35 (23 satellites)   \n",
       "3      Vandenberg , SLC‑4E  Starlink : Group 7-10 (22 satellites)   \n",
       "4  Cape Canaveral , SLC‑40  Starlink : Group 6-37 (23 satellites)   \n",
       "\n",
       "   Payload mass Orbit Customer Launch outcome     Booster landing  \n",
       "0       16800.0   LEO   SpaceX        Success  Success ( OCISLY )  \n",
       "1        1800.0   GTO    Ovzon        Success    Success ( LZ‑1 )  \n",
       "2       17100.0   LEO   SpaceX        Success    Success ( ASOG )  \n",
       "3       16700.0   LEO   SpaceX        Success  Success ( OCISLY )  \n",
       "4       17100.0   LEO   SpaceX        Success    Success ( ASOG )  "
      ]
     },
     "metadata": {},
     "output_type": "display_data"
    }
   ],
   "source": [
    "import pandas as pd\n",
    "\n",
    "# Build the dataframe directly from lists (safer than dict->Series for mixed lengths)\n",
    "df = pd.DataFrame(launch_dict)\n",
    "\n",
    "# Basic cleanup / types\n",
    "df['Payload mass'] = pd.to_numeric(df['Payload mass'], errors='coerce')\n",
    "\n",
    "print(df.shape)\n",
    "display(df.head())\n"
   ]
  },
  {
   "cell_type": "markdown",
   "metadata": {},
   "source": [
    "We can now export it to a <b>CSV</b> for the next section, but to make the answers consistent and in case you have difficulties finishing this lab. \n",
    "\n",
    "Following labs will be using a provided dataset to make each lab independent. \n"
   ]
  },
  {
   "cell_type": "markdown",
   "metadata": {},
   "source": [
    "<code>df.to_csv('spacex_web_scraped.csv', index=False)</code>\n"
   ]
  },
  {
   "cell_type": "code",
   "execution_count": 96,
   "metadata": {
    "tags": []
   },
   "outputs": [],
   "source": [
    "df.to_csv('spacex_web_scraped.csv', index=False)"
   ]
  },
  {
   "cell_type": "markdown",
   "metadata": {},
   "source": [
    "## Authors\n"
   ]
  },
  {
   "cell_type": "markdown",
   "metadata": {},
   "source": [
    "<a href=\"https://www.linkedin.com/in/yan-luo-96288783/\">Yan Luo</a>\n"
   ]
  },
  {
   "cell_type": "markdown",
   "metadata": {},
   "source": [
    "<a href=\"https://www.linkedin.com/in/nayefaboutayoun/\">Nayef Abou Tayoun</a>\n"
   ]
  },
  {
   "cell_type": "markdown",
   "metadata": {},
   "source": [
    "<!--\n",
    "## Change Log\n",
    "-->\n"
   ]
  },
  {
   "cell_type": "markdown",
   "metadata": {},
   "source": [
    "<!--\n",
    "| Date (YYYY-MM-DD) | Version | Changed By | Change Description      |\n",
    "| ----------------- | ------- | ---------- | ----------------------- |\n",
    "| 2021-06-09        | 1.0     | Yan Luo    | Tasks updates           |\n",
    "| 2020-11-10        | 1.0     | Nayef      | Created the initial version |\n",
    "-->\n"
   ]
  },
  {
   "cell_type": "markdown",
   "metadata": {},
   "source": [
    "Copyright © 2021 IBM Corporation. All rights reserved.\n"
   ]
  }
 ],
 "metadata": {
  "kernelspec": {
   "display_name": "Python",
   "language": "python",
   "name": "conda-env-python-py"
  },
  "language_info": {
   "codemirror_mode": {
    "name": "ipython",
    "version": 3
   },
   "file_extension": ".py",
   "mimetype": "text/x-python",
   "name": "python",
   "nbconvert_exporter": "python",
   "pygments_lexer": "ipython3",
   "version": "3.7.12"
  },
  "prev_pub_hash": "935d3177ae0c3f2ed2083cb1927c99bbd0b33214dfff8dadb45ee7d62f8f3b99"
 },
 "nbformat": 4,
 "nbformat_minor": 4
}
